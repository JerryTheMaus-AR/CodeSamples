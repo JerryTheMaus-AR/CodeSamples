{
  "cells": [
    {
      "cell_type": "markdown",
      "metadata": {
        "id": "3cbdhivDJDKx"
      },
      "source": [
        "# Dataset Generation"
      ]
    },
    {
      "cell_type": "markdown",
      "metadata": {
        "id": "q6vGWuavJ1vq"
      },
      "source": [
        "##Libraries"
      ]
    },
    {
      "cell_type": "code",
      "execution_count": null,
      "metadata": {
        "id": "XuQlqCRaJ3w9"
      },
      "outputs": [],
      "source": [
        "import torch\n",
        "import torch.autograd as autograd\n",
        "import torch.nn as nn\n",
        "import torch.nn.functional as F\n",
        "import torch.optim as optim\n",
        "import torchvision\n",
        "import torchvision.transforms as transforms\n",
        "import shelve\n",
        "import math\n",
        "import numpy as np\n",
        "import pandas as pd\n",
        "import io\n",
        "import matplotlib.pyplot as plt\n",
        "import random as rd\n",
        "from torch.utils.data import Dataset, DataLoader"
      ]
    },
    {
      "cell_type": "markdown",
      "metadata": {
        "id": "IpEqBowUS8Jf"
      },
      "source": [
        "##Training Image Demo"
      ]
    },
    {
      "cell_type": "code",
      "execution_count": null,
      "metadata": {
        "colab": {
          "base_uri": "https://localhost:8080/"
        },
        "id": "KzAaIBqDI-KA",
        "outputId": "c6f8968d-e0e5-4d15-849c-9393da2951ca"
      },
      "outputs": [
        {
          "output_type": "execute_result",
          "data": {
            "text/plain": [
              "array([[0., 0., 0., ..., 0., 0., 0.],\n",
              "       [0., 0., 0., ..., 0., 0., 0.],\n",
              "       [0., 0., 0., ..., 0., 0., 0.],\n",
              "       ...,\n",
              "       [0., 0., 0., ..., 0., 0., 0.],\n",
              "       [0., 0., 0., ..., 0., 0., 0.],\n",
              "       [0., 0., 0., ..., 0., 0., 0.]])"
            ]
          },
          "metadata": {},
          "execution_count": 26
        }
      ],
      "source": [
        "Trainer_image = np.zeros((100,100))\n",
        "Trainer_image"
      ]
    },
    {
      "cell_type": "markdown",
      "metadata": {
        "id": "R7CVcPRG1-cg"
      },
      "source": [
        "# Image Generation Vanilla Code"
      ]
    },
    {
      "cell_type": "markdown",
      "metadata": {
        "id": "DyxhRlF7GrHr"
      },
      "source": [
        "## Find number of squares and assign each an index"
      ]
    },
    {
      "cell_type": "code",
      "execution_count": null,
      "metadata": {
        "colab": {
          "base_uri": "https://localhost:8080/"
        },
        "id": "KuJJcBHXTFAQ",
        "outputId": "d9ea365d-9c4b-42f8-c466-196054a9c436"
      },
      "outputs": [
        {
          "output_type": "stream",
          "name": "stdout",
          "text": [
            "6\n",
            "[1, 2, 3, 4, 5, 6]\n"
          ]
        }
      ],
      "source": [
        "amt = rd.randrange(1,12) #1 to 11 possible total number of squares, becuase randrange does not include end parameter\n",
        "idx = []\n",
        "for num in range(1,amt+1):\n",
        "  idx.append(num) #make a list and index the squares\n",
        "print(amt)\n",
        "print(idx)\n",
        "    "
      ]
    },
    {
      "cell_type": "markdown",
      "metadata": {
        "id": "-3uhFuaRGn4q"
      },
      "source": [
        "## Generates Coordinates and Size"
      ]
    },
    {
      "cell_type": "code",
      "execution_count": null,
      "metadata": {
        "colab": {
          "base_uri": "https://localhost:8080/"
        },
        "id": "h9YVLIZxY5Eq",
        "outputId": "6135f65d-95b7-4ce0-ff81-5908ffe64ef2"
      },
      "outputs": [
        {
          "output_type": "stream",
          "name": "stdout",
          "text": [
            "[75, 23, 69, 46, 85, 60]\n",
            "[51, 17, 8, 56, 32, 10]\n",
            "[1, 1, 1, 2, 2, 2]\n"
          ]
        }
      ],
      "source": [
        "coo_x = []\n",
        "coo_y = []\n",
        "sqr_size = []\n",
        "pix_remain = [[],[]]\n",
        "for i in range(0,100):\n",
        "  pix_remain[0].append(i)\n",
        "  pix_remain[1].append(i) #makes artificial pic for overlap test\n",
        "while len(coo_x) < amt: #below is the border, overlap test, and coord generation\n",
        "  x_hold = rd.randrange(0,100)\n",
        "  y_hold = rd.randrange(0,100)\n",
        "  size_hold = rd.randrange(1,5)\n",
        "  x_ends = [x_hold,x_hold + size_hold - 1]\n",
        "  y_ends = [y_hold,y_hold + size_hold - 1]\n",
        "  if size_hold + x_hold <= 99 and size_hold + y_hold <= 99 and True == all(item in pix_remain[0] for item in x_ends) and True == all(item in pix_remain[1] for item in y_ends):\n",
        "    coo_x.append(x_hold)\n",
        "    coo_y.append(y_hold)\n",
        "    sqr_size.append(size_hold)\n",
        "    del pix_remain[0][x_ends[0]:x_ends[1]]\n",
        "    del pix_remain[1][y_ends[0]:y_ends[1]]\n",
        "  else:\n",
        "    continue\n",
        "\n",
        "\n",
        "print(coo_x)\n",
        "print(coo_y)\n",
        "print(sqr_size)"
      ]
    },
    {
      "cell_type": "markdown",
      "metadata": {
        "id": "XprxaonpG6FY"
      },
      "source": [
        "## Replace 0s in Array to Generate Images!"
      ]
    },
    {
      "cell_type": "code",
      "execution_count": null,
      "metadata": {
        "colab": {
          "base_uri": "https://localhost:8080/"
        },
        "id": "veS4TvFXGkC8",
        "outputId": "10af9855-7901-4acc-81f0-96e9a38d2612"
      },
      "outputs": [
        {
          "output_type": "stream",
          "name": "stdout",
          "text": [
            "[0, 1, 2, 3, 4, 5]\n"
          ]
        },
        {
          "output_type": "execute_result",
          "data": {
            "text/plain": [
              "array([[0., 0., 0., ..., 0., 0., 0.],\n",
              "       [0., 0., 0., ..., 0., 0., 0.],\n",
              "       [0., 0., 0., ..., 0., 0., 0.],\n",
              "       ...,\n",
              "       [0., 0., 0., ..., 0., 0., 0.],\n",
              "       [0., 0., 0., ..., 0., 0., 0.],\n",
              "       [0., 0., 0., ..., 0., 0., 0.]])"
            ]
          },
          "metadata": {},
          "execution_count": 29
        }
      ],
      "source": [
        "Trainer_image = np.zeros((100,100))\n",
        "idx.insert(0,0)\n",
        "del idx[-1]\n",
        "print(idx)\n",
        "for i in idx:\n",
        "  Trainer_image[coo_x[i]:coo_x[i]+sqr_size[i],coo_y[i]:coo_y[i]+sqr_size[i]] = 1\n",
        "Trainer_image"
      ]
    },
    {
      "cell_type": "code",
      "execution_count": null,
      "metadata": {
        "id": "I7_7jVcqw8qR"
      },
      "outputs": [],
      "source": [
        "np.set_printoptions(threshold=1000) #return output truncation to default"
      ]
    },
    {
      "cell_type": "markdown",
      "metadata": {
        "id": "OviSetepVZyR"
      },
      "source": [
        "# Full Code in Functions"
      ]
    },
    {
      "cell_type": "code",
      "execution_count": null,
      "metadata": {
        "colab": {
          "base_uri": "https://localhost:8080/",
          "height": 339
        },
        "id": "zbKBSZ3NVdMJ",
        "outputId": "a212b3af-b8ad-47e9-f94d-7e8eed2f01e1"
      },
      "outputs": [
        {
          "output_type": "stream",
          "name": "stdout",
          "text": [
            "[93, 10, 47, 52, 7, 46, 4, 21, 81, 85, 64, 26, 10, 21, 40, 65]\n",
            "[30, 15, 53, 17, 71, 55, 92, 97, 1, 82, 40, 50, 27, 97, 83, 72]\n",
            "[1, 1, 3, 4, 3, 1, 2, 1, 2, 4, 3, 1, 2, 1, 4, 2]\n",
            "[1, 2, 3, 4, 5, 6, 7, 8, 9, 10, 11, 12, 13, 14, 15, 16]\n"
          ]
        },
        {
          "output_type": "display_data",
          "data": {
            "text/plain": [
              "<Figure size 432x288 with 1 Axes>"
            ],
            "image/png": "[encoded data removed]"
          },
          "metadata": {
            "needs_background": "light"
          }
        }
      ],
      "source": [
        "np.set_printoptions(threshold=1000) #print full array\n",
        "\n",
        "def squares():\n",
        "  amt = rd.randrange(6,17) #6 to 16 possible total number of squares, becuase randrange does not include end parameter\n",
        "  idx = []\n",
        "  for num in range(1,amt+1):\n",
        "    idx.append(num) #make a list and index the squares\n",
        "  return amt,idx\n",
        "  \n",
        "\n",
        "def coo(amt,idx):\n",
        "  coo_x = []\n",
        "  coo_y = []\n",
        "  sqr_size = []\n",
        "  pix_remain = [[],[]]\n",
        "  for i in range(0,100):\n",
        "    pix_remain[0].append(i)\n",
        "    pix_remain[1].append(i) #makes artificial image for overlap test\n",
        "  while len(coo_x) < amt: #below is the border, overlap test, and coord generation\n",
        "    x_hold = rd.randrange(0,100)\n",
        "    y_hold = rd.randrange(0,100) #temporary x & y coordinates\n",
        "    size_hold = rd.randrange(1,5) #temp. size (regulates max size to be 4x4)\n",
        "    x_ends = [x_hold,x_hold + size_hold - 1] \n",
        "    y_ends = [y_hold,y_hold + size_hold - 1] #store upper & lower extreme of square into lists\n",
        "    if size_hold + x_hold <= 99 and size_hold + y_hold <= 99 and True == all(item in pix_remain[0] for item in x_ends) and True == all(item in pix_remain[1] for item in y_ends):\n",
        "      coo_x.append(x_hold)\n",
        "      coo_y.append(y_hold)\n",
        "      sqr_size.append(size_hold)\n",
        "      del pix_remain[0][x_ends[0]:x_ends[1]] #check for border and overlap. If good, temp. coordinates and size are added to permanent coo & size list. This is two lists, a square bracket is a list\n",
        "      del pix_remain[1][y_ends[0]:y_ends[1]] #\"occupied\" pixels are removed from the artificial image for the next round of test\n",
        "    else:\n",
        "      continue\n",
        "  return coo_x, coo_y, sqr_size\n",
        "\n",
        "\n",
        "def image(coo_x,coo_y,sqr_size,idx):\n",
        "  Trainer_image = np.zeros((100,100)) #\"empty\" image\n",
        "  idx.insert(0,0)\n",
        "  del idx[-1] #add a 0 in the beginning and delete the last number of the idx list\n",
        "  for i in idx:\n",
        "    Trainer_image[coo_x[i]:coo_x[i]+sqr_size[i],coo_y[i]:coo_y[i]+sqr_size[i]] = 1 #replace 0s with 1s!!!\n",
        "  return Trainer_image\n",
        "\n",
        "\n",
        "def main():\n",
        "  amt,idx = squares()\n",
        "  x,y,s = coo(amt,idx)\n",
        "  print(x)\n",
        "  print(y)\n",
        "  print(s)\n",
        "  print(idx) #these were printed for sanity check\n",
        "  trainer = image(x,y,s,idx)\n",
        "  plt.imshow(trainer,cmap='PuRd')\n",
        "\n",
        "main()"
      ]
    },
    {
      "cell_type": "markdown",
      "metadata": {
        "id": "PwgJadMIvFLv"
      },
      "source": [
        "# Main2 for Lists of Sqr Amt and Generated Images"
      ]
    },
    {
      "cell_type": "code",
      "execution_count": null,
      "metadata": {
        "id": "dKv_-7_jWTXs"
      },
      "outputs": [],
      "source": [
        "np.set_printoptions(threshold=1000) #print full array\n",
        "\n",
        "def squares():\n",
        "  amt = rd.randrange(6,17) #6 to 16 possible total number of squares, becuase randrange does not include end parameter\n",
        "  idx = []\n",
        "  for num in range(1,amt+1):\n",
        "    idx.append(num) #make a list and index the squares\n",
        "  return amt,idx\n",
        "  \n",
        "\n",
        "def coo(amt,idx):\n",
        "  coo_x = []\n",
        "  coo_y = []\n",
        "  sqr_size = []\n",
        "  pix_remain = [[],[]]\n",
        "  for i in range(0,100):\n",
        "    pix_remain[0].append(i)\n",
        "    pix_remain[1].append(i) #makes artificial image for overlap test\n",
        "  while len(coo_x) < amt: #below is the border, overlap test, and coord generation\n",
        "    x_hold = rd.randrange(0,100)\n",
        "    y_hold = rd.randrange(0,100) #temporary x & y coordinates\n",
        "    size_hold = rd.randrange(1,5) #temp. size (regulates max size to be 4x4)\n",
        "    x_ends = [x_hold,x_hold + size_hold - 1] \n",
        "    y_ends = [y_hold,y_hold + size_hold - 1] #store upper & lower extreme of square into lists\n",
        "    if size_hold + x_hold <= 99 and size_hold + y_hold <= 99 and True == all(item in pix_remain[0] for item in x_ends) and True == all(item in pix_remain[1] for item in y_ends):\n",
        "      coo_x.append(x_hold)\n",
        "      coo_y.append(y_hold)\n",
        "      sqr_size.append(size_hold)\n",
        "      del pix_remain[0][x_ends[0]:x_ends[1]] #check for border and overlap. If good, temp. coordinates and size are added to permanent coo & size list\n",
        "      del pix_remain[1][y_ends[0]:y_ends[1]] #\"occupied\" pixels are removed from the artificial image for the next round of test\n",
        "    else:\n",
        "      continue\n",
        "  return coo_x, coo_y, sqr_size\n",
        "\n",
        "\n",
        "def generator(coo_x,coo_y,sqr_size,idx):\n",
        "  Trainer_image = np.zeros((100,100)) #\"empty\" image\n",
        "  idx.insert(0,0)\n",
        "  del idx[-1] #add a 0 in the beginning and delete the last number of the idx list\n",
        "  for i in idx:\n",
        "    Trainer_image[coo_x[i]:coo_x[i]+sqr_size[i],coo_y[i]:coo_y[i]+sqr_size[i]] = 1 #replace 0s with 1s!!!\n",
        "  return Trainer_image\n",
        "\n",
        "\n",
        "def cleanup():\n",
        "  amt,idx = squares()\n",
        "  x,y,s = coo(amt,idx)\n",
        "  imgs = generator(x,y,s,idx)\n",
        "  return amt, imgs\n",
        "\n",
        "def main2():\n",
        "  label = []\n",
        "  imageset = []\n",
        "  for i in range(0,5000):\n",
        "    amt, image = cleanup()\n",
        "    label.append(amt)\n",
        "    imageset.append(torch.from_numpy(image).float())\n",
        "  return label, imageset\n",
        "\n",
        "label,imageset = main2()"
      ]
    },
    {
      "cell_type": "code",
      "execution_count": null,
      "metadata": {
        "colab": {
          "base_uri": "https://localhost:8080/",
          "height": 286
        },
        "id": "rmOwyN3Ga4a5",
        "outputId": "bf7ebc7d-bfb2-419d-de87-0f7193b5ba91"
      },
      "outputs": [
        {
          "output_type": "execute_result",
          "data": {
            "text/plain": [
              "<matplotlib.image.AxesImage at 0x7fa9abc37490>"
            ]
          },
          "metadata": {},
          "execution_count": 33
        },
        {
          "output_type": "display_data",
          "data": {
            "text/plain": [
              "<Figure size 432x288 with 1 Axes>"
            ],
            "image/png": "[encoded data removed]"
          },
          "metadata": {
            "needs_background": "light"
          }
        }
      ],
      "source": [
        "plt.imshow(imageset[1])"
      ]
    },
    {
      "cell_type": "markdown",
      "metadata": {
        "id": "vWW81izRmFaM"
      },
      "source": [
        "# Building the Network"
      ]
    },
    {
      "cell_type": "markdown",
      "metadata": {
        "id": "Qci372rZyvxk"
      },
      "source": [
        "## Network Class"
      ]
    },
    {
      "cell_type": "code",
      "execution_count": null,
      "metadata": {
        "id": "9duLgfiHmI25"
      },
      "outputs": [],
      "source": [
        "class CounterNetwork(nn.Module):\n",
        "\n",
        "  def __init__(self):\n",
        "    super(CounterNetwork, self).__init__()\n",
        "    self.conv1 = nn.Conv2d(1, 6, 5)   # 1 input image channel, 6 output channels, 5x5 square convolution kernel\n",
        "    self.conv2 = nn.Conv2d(6, 16, 5)  # 6 channels from the conv1 layer, 16 output channels, 5x5 square convolution kernel\n",
        "    self.fc1 = nn.Linear(16*22*22, 120)  \n",
        "    self.fc2 = nn.Linear(120, 84)\n",
        "    self.fc3 = nn.Linear(84, 11)\n",
        "\n",
        "  def forward(self,x):\n",
        "    x = F.max_pool2d(F.relu(self.conv1(x)), 2) # 1) take x and apply convolution conv1; 2) apply nonlinearity F.relu; 3) apply max pool 2d\n",
        "    x = F.max_pool2d(F.relu(self.conv2(x)), 2) # 1) take x and apply convolution conv2; 2) apply nonlinearity F.relu; 3) apply max pool 2d\n",
        "    x = x.view(-1, self.num_flat_features(x))  # reshape from matrix to vector for fully connected layer\n",
        "    x = F.relu(self.fc1(x))\n",
        "    x = F.relu(self.fc2(x))\n",
        "    x = self.fc3(x)\n",
        "    return x\n",
        "\n",
        "  def num_flat_features(self, x):                # This is a function we added for convenience to find out the number of features in a layer.\n",
        "      size = x.size()[1:]  # all dimensions except the batch dimension\n",
        "      num_features = 1\n",
        "      for s in size:\n",
        "          num_features *= s\n",
        "      return num_features\n"
      ]
    },
    {
      "cell_type": "code",
      "execution_count": null,
      "metadata": {
        "colab": {
          "base_uri": "https://localhost:8080/"
        },
        "id": "AkztcmXZeVfx",
        "outputId": "962cbb0f-26c4-4789-b8bf-ad2ed0698b56"
      },
      "outputs": [
        {
          "output_type": "execute_result",
          "data": {
            "text/plain": [
              "CounterNetwork(\n",
              "  (conv1): Conv2d(1, 6, kernel_size=(5, 5), stride=(1, 1))\n",
              "  (conv2): Conv2d(6, 16, kernel_size=(5, 5), stride=(1, 1))\n",
              "  (fc1): Linear(in_features=7744, out_features=120, bias=True)\n",
              "  (fc2): Linear(in_features=120, out_features=84, bias=True)\n",
              "  (fc3): Linear(in_features=84, out_features=11, bias=True)\n",
              ")"
            ]
          },
          "metadata": {},
          "execution_count": 35
        }
      ],
      "source": [
        "net = CounterNetwork()\n",
        "net.cuda()"
      ]
    },
    {
      "cell_type": "markdown",
      "metadata": {
        "id": "99KQr3wBR6De"
      },
      "source": [
        "## Dataset"
      ]
    },
    {
      "cell_type": "code",
      "execution_count": null,
      "metadata": {
        "id": "eiXUWzSLR9hL"
      },
      "outputs": [],
      "source": [
        "#Dataset\n",
        "\n",
        "class SquaresDataset(Dataset):\n",
        "\n",
        "  def __init__(self,label,imageset):\n",
        "    self.label = label\n",
        "    self.imageset = imageset\n",
        "\n",
        "  def __len__(self):\n",
        "    return len(self.label)\n",
        "\n",
        "  def __getitem__(self,idx):\n",
        "    label = self.label[idx]-6\n",
        "    image = self.imageset[idx]\n",
        "    sample = {'image':image.unsqueeze(0),'label':label}\n",
        "    return sample"
      ]
    },
    {
      "cell_type": "markdown",
      "metadata": {
        "id": "cbxG-RBLqAZD"
      },
      "source": [
        "## Dataloader"
      ]
    },
    {
      "cell_type": "code",
      "execution_count": null,
      "metadata": {
        "id": "MYM0VSkRqNYj"
      },
      "outputs": [],
      "source": [
        "image_train = SquaresDataset(label,imageset)\n",
        "imageloader = DataLoader(image_train,batch_size=32,shuffle=True,num_workers=1,pin_memory=True)"
      ]
    },
    {
      "cell_type": "markdown",
      "metadata": {
        "id": "RE72KyjItqiy"
      },
      "source": [
        "## Loss Function"
      ]
    },
    {
      "cell_type": "code",
      "execution_count": null,
      "metadata": {
        "id": "uGfeVlCVtuGj"
      },
      "outputs": [],
      "source": [
        "import torch.optim as optim\n",
        "criterion = nn.CrossEntropyLoss()                                 # specify the loss function\n",
        "optimizer = optim.SGD(net.parameters(), lr=0.005, momentum=0.9)     # specify the optimizer"
      ]
    },
    {
      "cell_type": "markdown",
      "metadata": {
        "id": "gCsyR-UEsl--"
      },
      "source": [
        "## Train the Network!"
      ]
    },
    {
      "cell_type": "code",
      "execution_count": null,
      "metadata": {
        "colab": {
          "base_uri": "https://localhost:8080/"
        },
        "id": "9JREim9mZWWM",
        "outputId": "8d0b714c-f6e6-46c7-9a9e-de4b68d8ad0f"
      },
      "outputs": [
        {
          "output_type": "stream",
          "name": "stdout",
          "text": [
            "Drive already mounted at /content/gdrive; to attempt to forcibly remount, call drive.mount(\"/content/gdrive\", force_remount=True).\n"
          ]
        }
      ],
      "source": [
        "from google.colab import drive\n",
        "drive.mount('/content/gdrive') "
      ]
    },
    {
      "cell_type": "code",
      "execution_count": null,
      "metadata": {
        "colab": {
          "base_uri": "https://localhost:8080/"
        },
        "id": "-aVPp4b0atAX",
        "outputId": "004563f4-56d6-4916-d482-0110a7934252"
      },
      "outputs": [
        {
          "output_type": "stream",
          "name": "stdout",
          "text": [
            "[1] loss: 2.399\n",
            "[2] loss: 2.397\n",
            "[3] loss: 2.394\n",
            "[4] loss: 2.382\n",
            "[5] loss: 2.248\n",
            "[6] loss: 2.054\n",
            "[7] loss: 1.933\n",
            "[8] loss: 1.951\n",
            "[9] loss: 1.924\n",
            "[10] loss: 1.825\n",
            "[11] loss: 1.639\n",
            "[12] loss: 1.535\n",
            "[13] loss: 1.427\n",
            "[14] loss: 1.243\n",
            "[15] loss: 1.228\n",
            "[16] loss: 1.024\n",
            "[17] loss: 0.842\n",
            "[18] loss: 0.656\n",
            "[19] loss: 0.567\n",
            "[20] loss: 0.486\n",
            "[21] loss: 0.275\n",
            "[22] loss: 0.155\n",
            "[23] loss: 0.145\n",
            "[24] loss: 0.121\n",
            "[25] loss: 0.052\n",
            "[26] loss: 0.068\n",
            "[27] loss: 0.060\n",
            "[28] loss: 0.079\n",
            "[29] loss: 0.102\n",
            "[30] loss: 0.077\n",
            "[31] loss: 0.050\n",
            "[32] loss: 0.028\n",
            "[33] loss: 0.015\n",
            "[34] loss: 0.002\n",
            "[35] loss: 0.001\n",
            "[36] loss: 0.000\n",
            "[37] loss: 0.000\n",
            "[38] loss: 0.000\n",
            "[39] loss: 0.000\n",
            "[40] loss: 0.000\n",
            "[41] loss: 0.000\n",
            "[42] loss: 0.000\n",
            "[43] loss: 0.000\n",
            "[44] loss: 0.000\n",
            "[45] loss: 0.000\n",
            "[46] loss: 0.000\n",
            "[47] loss: 0.000\n",
            "[48] loss: 0.000\n",
            "[49] loss: 0.000\n",
            "[50] loss: 0.000\n"
          ]
        }
      ],
      "source": [
        "save_freq = 3\n",
        "net.train()\n",
        "loss_memory = []\n",
        "for epoch in range(50):  # loop over the dataset multiple times\n",
        "    running_loss = 0.0\n",
        "    for i, data in enumerate(imageloader):\n",
        "      labels = data['label']\n",
        "      images = data['image']\n",
        "      images, labels = images.cuda(), labels.cuda()\n",
        "      optimizer.zero_grad()\n",
        "      outputs = net(images)\n",
        "      loss = criterion(outputs, labels)\n",
        "      loss.backward()\n",
        "      optimizer.step()\n",
        "      running_loss += loss.data.item()\n",
        "    epoch_loss = running_loss / len(imageloader)\n",
        "    print('[%d] loss: %.3f' %(epoch + 1, epoch_loss ))\n",
        "    loss_memory.append(epoch_loss)\n",
        "    running_loss = 0.0\n",
        "    if epoch % save_freq == save_freq-1: \n",
        "       path =  F\"/content/gdrive/MyDrive/%03d.ckpt\" % epoch\n",
        "       torch.save({\n",
        "            'epoch': epoch,\n",
        "            'model_state_dict': net.state_dict(),\n",
        "            'optimizer_state_dict': optimizer.state_dict(),\n",
        "            'loss': loss,\n",
        "            }, path)"
      ]
    },
    {
      "cell_type": "code",
      "execution_count": null,
      "metadata": {
        "colab": {
          "base_uri": "https://localhost:8080/",
          "height": 286
        },
        "id": "tKUvT04jCMB3",
        "outputId": "af52b3a7-b251-473f-caba-e689e27fa8c2"
      },
      "outputs": [
        {
          "output_type": "execute_result",
          "data": {
            "text/plain": [
              "[<matplotlib.lines.Line2D at 0x7faa5cfd0730>]"
            ]
          },
          "metadata": {},
          "execution_count": 41
        },
        {
          "output_type": "display_data",
          "data": {
            "text/plain": [
              "<Figure size 432x288 with 1 Axes>"
            ],
            "image/png": "[encoded data removed]"
          },
          "metadata": {
            "needs_background": "light"
          }
        }
      ],
      "source": [
        "plt.plot(loss_memory)"
      ]
    },
    {
      "cell_type": "code",
      "execution_count": null,
      "metadata": {
        "colab": {
          "base_uri": "https://localhost:8080/"
        },
        "id": "RheM9URYB3xO",
        "outputId": "8b078c6e-1b9e-4fd3-9d2e-16a0297024b8"
      },
      "outputs": [
        {
          "output_type": "execute_result",
          "data": {
            "text/plain": [
              "tensor([[ 18.3647,  32.5342,  18.6576,  14.6650,   6.1730,  10.0657,  -7.9321,\n",
              "          -9.8348, -15.6333, -29.5759, -45.9216],\n",
              "        [ 46.2482,  37.2458,  24.7382,  17.4520,   4.5457,   3.9529, -12.4012,\n",
              "         -21.0148, -23.8433, -31.6828, -56.0276],\n",
              "        [ 21.1096,  42.6348,  21.9822,  24.5872,  15.3298,   7.8916,  -5.8444,\n",
              "         -11.1766, -27.3290, -37.2513, -56.8495],\n",
              "        [ 30.1145,  38.6328,  18.1074,  23.0918,   4.4566,   3.7088, -12.6997,\n",
              "         -10.3573, -17.7596, -30.6521, -58.4827],\n",
              "        [-25.0189,   4.1915,  -7.6857,   4.5803,   8.4689,  21.9333,   1.1490,\n",
              "           3.1705,   6.4769,   2.6542, -17.4120],\n",
              "        [-53.5473, -41.2444, -13.5653, -20.0512,  -9.5228,  13.4061,  10.0667,\n",
              "          22.7038,  25.1697,  37.0740,  25.4016],\n",
              "        [-23.3516, -11.1017,  -4.6775,   8.2501,  13.4638,  24.7063,   9.1335,\n",
              "           9.2695,   3.6564,  -3.4303, -22.5319],\n",
              "        [ -9.8980,  16.7579,  16.5725,  29.3704,  11.8058,   0.9036,   3.5392,\n",
              "          -6.0669,  -7.8721, -22.3888, -42.7594]], device='cuda:0',\n",
              "       grad_fn=<AddmmBackward0>)"
            ]
          },
          "metadata": {},
          "execution_count": 42
        }
      ],
      "source": [
        "outputs"
      ]
    },
    {
      "cell_type": "markdown",
      "metadata": {
        "id": "gjNq1j0IDRxe"
      },
      "source": [
        "# Testing"
      ]
    },
    {
      "cell_type": "code",
      "execution_count": null,
      "metadata": {
        "id": "Xe6c6VPAFKxj"
      },
      "outputs": [],
      "source": [
        "def main_test():\n",
        "  label = []\n",
        "  imageset = []\n",
        "  for i in range(0,5000):\n",
        "    amt, image = cleanup()\n",
        "    label.append(amt)\n",
        "    imageset.append(torch.from_numpy(image).float())\n",
        "  return label, imageset\n",
        "\n",
        "label_t,imageset_t = main_test()"
      ]
    },
    {
      "cell_type": "code",
      "execution_count": null,
      "metadata": {
        "id": "jVMwBO6LDUIv"
      },
      "outputs": [],
      "source": [
        "image_test = SquaresDataset(label_t,imageset_t)\n",
        "testloader = DataLoader(image_test,batch_size=32,shuffle=True,num_workers=1,pin_memory=True)"
      ]
    },
    {
      "cell_type": "code",
      "execution_count": null,
      "metadata": {
        "colab": {
          "base_uri": "https://localhost:8080/"
        },
        "id": "LNtLxDWIDb2y",
        "outputId": "e49c7ce3-7845-4ca3-dadf-34db05df2346"
      },
      "outputs": [
        {
          "output_type": "stream",
          "name": "stdout",
          "text": [
            "0.3444\n"
          ]
        }
      ],
      "source": [
        "net.eval()\n",
        "score = []\n",
        "for i, data in enumerate(testloader):\n",
        "  labels = data['label']\n",
        "  images = data['image']\n",
        "  images, labels = images.cuda(), labels.cuda()\n",
        "  outputs = net(images)\n",
        "  outputs_numpy = outputs.cpu().data.numpy()\n",
        "  outputs_argmax = np.argmax(outputs_numpy,axis=1)\n",
        "  labels_numpy = labels.cpu().data.numpy()\n",
        "  score = np.concatenate((score,(labels_numpy==outputs_argmax).astype(int)),axis=0)\n",
        "\n",
        "meanAccuracy = sum(score)/len(score)\n",
        "print(meanAccuracy)"
      ]
    },
    {
      "cell_type": "code",
      "execution_count": null,
      "metadata": {
        "colab": {
          "base_uri": "https://localhost:8080/"
        },
        "id": "l-BzOFcpLN1S",
        "outputId": "dbf7899f-0ecd-4a7a-ca1c-01262d486d49"
      },
      "outputs": [
        {
          "output_type": "stream",
          "name": "stdout",
          "text": [
            "37.71836974076218 3.3173559573557384e-274\n"
          ]
        }
      ],
      "source": [
        "import scipy.stats as stats\n",
        "t_statistic, p_value = stats.ttest_1samp(a=score, popmean=1/11)\n",
        "print(t_statistic , p_value)"
      ]
    },
    {
      "cell_type": "code",
      "execution_count": null,
      "metadata": {
        "colab": {
          "base_uri": "https://localhost:8080/"
        },
        "id": "QC1kJ53LhncW",
        "outputId": "94657b45-1001-4073-859e-be8f47e2cae8"
      },
      "outputs": [
        {
          "output_type": "stream",
          "name": "stdout",
          "text": [
            "[0.3444, 0.333, 0.3442, 0.3342, 0.3298, 0.333, 0.3408, 0.3398, 0.335, 0.3446, 0.354, 0.346, 0.333, 0.3316, 0.336, 0.3436, 0.3334, 0.3422, 0.3546, 0.3388, 0.3472, 0.3462, 0.3472, 0.3224, 0.3406, 0.3506, 0.339, 0.3454, 0.3412, 0.3428, 0.3352, 0.3536, 0.3404, 0.3412, 0.3396, 0.3442, 0.3374, 0.3334, 0.3346, 0.3408, 0.3382, 0.3316, 0.3512, 0.3344, 0.345, 0.34, 0.3412, 0.3418, 0.3398, 0.3376, 0.3364]\n"
          ]
        }
      ],
      "source": [
        "mAccs = [meanAccuracy]\n",
        "for i in range(50):\n",
        "  def main_test():\n",
        "    label = []\n",
        "    imageset = []\n",
        "    for i in range(0,5000):\n",
        "      amt, image = cleanup()\n",
        "      label.append(amt)\n",
        "      imageset.append(torch.from_numpy(image).float())\n",
        "    return label, imageset\n",
        "  label_t,imageset_t = main_test()\n",
        "  image_test = SquaresDataset(label_t,imageset_t)\n",
        "  testloader = DataLoader(image_test,batch_size=32,shuffle=True,num_workers=1,pin_memory=True)\n",
        "  net.eval()\n",
        "  score = []\n",
        "  for i, data in enumerate(testloader):\n",
        "    labels = data['label']\n",
        "    images = data['image']\n",
        "    images, labels = images.cuda(), labels.cuda()\n",
        "    outputs = net(images)\n",
        "    outputs_numpy = outputs.cpu().data.numpy()\n",
        "    outputs_argmax = np.argmax(outputs_numpy,axis=1)\n",
        "    labels_numpy = labels.cpu().data.numpy()\n",
        "    score = np.concatenate((score,(labels_numpy==outputs_argmax).astype(int)),axis=0)\n",
        "  meanAccuracy = sum(score)/len(score)\n",
        "  mAccs.append(meanAccuracy)\n",
        "print(mAccs)"
      ]
    },
    {
      "cell_type": "code",
      "source": [
        "mAccLabel=[]\n",
        "for i in range(1,52):\n",
        "  mAccLabel.append(i)"
      ],
      "metadata": {
        "id": "fQVFiQIUvWQK"
      },
      "execution_count": null,
      "outputs": []
    },
    {
      "cell_type": "code",
      "execution_count": null,
      "metadata": {
        "colab": {
          "base_uri": "https://localhost:8080/",
          "height": 283
        },
        "id": "kALDk7C2ipQ8",
        "outputId": "5785c569-81aa-4cbe-8ba2-b5e9172f2395"
      },
      "outputs": [
        {
          "output_type": "execute_result",
          "data": {
            "text/plain": [
              "<BarContainer object of 51 artists>"
            ]
          },
          "metadata": {},
          "execution_count": 61
        },
        {
          "output_type": "display_data",
          "data": {
            "text/plain": [
              "<Figure size 432x288 with 1 Axes>"
            ],
            "image/png": "[encoded data removed]"
          },
          "metadata": {
            "needs_background": "light"
          }
        }
      ],
      "source": [
        "plt.bar(mAccLabel,mAccs)"
      ]
    },
    {
      "cell_type": "code",
      "execution_count": null,
      "metadata": {
        "colab": {
          "base_uri": "https://localhost:8080/"
        },
        "id": "Kzn-gjiXk26D",
        "outputId": "525b509c-d1e0-41ca-868a-70d9c3f9e202"
      },
      "outputs": [
        {
          "output_type": "execute_result",
          "data": {
            "text/plain": [
              "51"
            ]
          },
          "metadata": {},
          "execution_count": 50
        }
      ],
      "source": [
        "len(mAccs)"
      ]
    },
    {
      "cell_type": "code",
      "execution_count": null,
      "metadata": {
        "colab": {
          "base_uri": "https://localhost:8080/"
        },
        "id": "3CVEAbwSjX-s",
        "outputId": "1dacb947-16ed-4b9b-db45-2b952c39216d"
      },
      "outputs": [
        {
          "output_type": "execute_result",
          "data": {
            "text/plain": [
              "0.006558538813832624"
            ]
          },
          "metadata": {},
          "execution_count": 51
        }
      ],
      "source": [
        "import statistics as st\n",
        "st.stdev(mAccs)"
      ]
    },
    {
      "cell_type": "code",
      "source": [
        "st.mean(mAccs)"
      ],
      "metadata": {
        "id": "zG8SK-fVwz0u",
        "outputId": "00e4fdf1-2b63-4cb7-c645-a2d6aaba0610",
        "colab": {
          "base_uri": "https://localhost:8080/"
        }
      },
      "execution_count": null,
      "outputs": [
        {
          "output_type": "execute_result",
          "data": {
            "text/plain": [
              "0.3402392156862745"
            ]
          },
          "metadata": {},
          "execution_count": 63
        }
      ]
    },
    {
      "cell_type": "code",
      "execution_count": null,
      "metadata": {
        "colab": {
          "base_uri": "https://localhost:8080/"
        },
        "id": "qQYjxGs2kdjp",
        "outputId": "90682807-0461-4e2b-90cf-3311b57da3b8"
      },
      "outputs": [
        {
          "output_type": "stream",
          "name": "stdout",
          "text": [
            "271.48931975831346 6.755775153378346e-81\n"
          ]
        }
      ],
      "source": [
        "t_statistic, p_value = stats.ttest_1samp(a=mAccs, popmean=1/11)\n",
        "print(t_statistic , p_value)"
      ]
    }
  ],
  "metadata": {
    "accelerator": "GPU",
    "colab": {
      "provenance": []
    },
    "gpuClass": "standard",
    "kernelspec": {
      "display_name": "Python 3",
      "name": "python3"
    },
    "language_info": {
      "name": "python"
    }
  },
  "nbformat": 4,
  "nbformat_minor": 0
}